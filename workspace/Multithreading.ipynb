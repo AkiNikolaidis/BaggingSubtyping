{
 "cells": [
  {
   "cell_type": "markdown",
   "metadata": {},
   "source": [
    "# MultiThreading"
   ]
  },
  {
   "cell_type": "markdown",
   "metadata": {},
   "source": [
    "Using example code from this Medium POst:\n",
    "    https://medium.com/@urban_institute/using-multiprocessing-to-make-python-code-faster-23ea5ef996ba\n",
    "        "
   ]
  },
  {
   "cell_type": "code",
   "execution_count": 1,
   "metadata": {},
   "outputs": [
    {
     "name": "stdout",
     "output_type": "stream",
     "text": [
      "0 squared results in a/an zero number\n",
      "1 squared results in a/an odd number\n",
      "2 squared results in a/an even number\n",
      "3 squared results in a/an odd number\n",
      "4 squared results in a/an even number\n",
      "5 squared results in a/an odd number\n",
      "6 squared results in a/an even number\n",
      "7 squared results in a/an odd number\n",
      "8 squared results in a/an even number\n",
      "9 squared results in a/an odd number\n",
      "That took 20.02592921257019 seconds\n"
     ]
    }
   ],
   "source": [
    "# No Multithreading-\n",
    "import time\n",
    "\n",
    "def basic_func(x):\n",
    "    if x == 0:\n",
    "        return 'zero'\n",
    "    elif x%2 == 0:\n",
    "        return 'even'\n",
    "    else:\n",
    "        return 'odd'\n",
    "    \n",
    "starttime = time.time()\n",
    "for i in range(0,10):\n",
    "    y = i*i\n",
    "    time.sleep(2)\n",
    "    print('{} squared results in a/an {} number'.format(i, basic_func(y)))\n",
    "    \n",
    "print('That took {} seconds'.format(time.time() - starttime))"
   ]
  },
  {
   "cell_type": "code",
   "execution_count": 6,
   "metadata": {},
   "outputs": [
    {
     "name": "stdout",
     "output_type": "stream",
     "text": [
      "0 squared results in a/an zero number\n",
      "1 squared results in a/an odd number\n",
      "2 squared results in a/an even number\n",
      "3 squared results in a/an odd number\n",
      "4 squared results in a/an even number\n",
      "5 squared results in a/an odd number\n",
      "6 squared results in a/an even number\n",
      "7 squared results in a/an odd number\n",
      "8 squared results in a/an even number\n",
      "9 squared results in a/an odd number\n",
      "That took 2.152108907699585 seconds\n"
     ]
    }
   ],
   "source": [
    "# Multithreading with Process\n",
    "import time\n",
    "import multiprocessing \n",
    "\n",
    "def basic_func(x):\n",
    "    if x == 0:\n",
    "        return 'zero'\n",
    "    elif x%2 == 0:\n",
    "        return 'even'\n",
    "    else:\n",
    "        return 'odd'\n",
    "\n",
    "def multiprocessing_func(x):\n",
    "    y = x*x\n",
    "    time.sleep(2)\n",
    "    print('{} squared results in a/an {} number'.format(x, basic_func(y)))\n",
    "    \n",
    "if __name__ == '__main__':\n",
    "    starttime = time.time()\n",
    "    processes = []\n",
    "    for i in range(0,10):\n",
    "        p = multiprocessing.Process(target=multiprocessing_func, args=(i,))\n",
    "        processes.append(p)\n",
    "        p.start()\n",
    "        \n",
    "    for process in processes:\n",
    "        data= process.join()\n",
    "        \n",
    "    print('That took {} seconds'.format(time.time() - starttime))"
   ]
  },
  {
   "cell_type": "code",
   "execution_count": 9,
   "metadata": {},
   "outputs": [
    {
     "data": {
      "text/plain": [
       "<Process(Process-28, stopped)>"
      ]
     },
     "execution_count": 9,
     "metadata": {},
     "output_type": "execute_result"
    }
   ],
   "source": [
    "p"
   ]
  },
  {
   "cell_type": "code",
   "execution_count": 4,
   "metadata": {},
   "outputs": [
    {
     "name": "stdout",
     "output_type": "stream",
     "text": [
      "3 squared results in a/an odd number\n",
      "1 squared results in a/an odd number\n",
      "2 squared results in a/an even number\n",
      "0 squared results in a/an zero number\n",
      "4 squared results in a/an even number\n",
      "6 squared results in a/an even number\n",
      "5 squared results in a/an odd number\n",
      "7 squared results in a/an odd number\n",
      "8 squared results in a/an even number\n",
      "9 squared results in a/an odd number\n",
      "That took 6.067401885986328 seconds\n"
     ]
    }
   ],
   "source": [
    "#Multithreading with Pool\n",
    "\n",
    "import time\n",
    "import multiprocessing \n",
    "\n",
    "def basic_func(x):\n",
    "    if x == 0:\n",
    "        return 'zero'\n",
    "    elif x%2 == 0:\n",
    "        return 'even'\n",
    "    else:\n",
    "        return 'odd'\n",
    "\n",
    "def multiprocessing_func(x):\n",
    "    y = x*x\n",
    "    time.sleep(2)\n",
    "    print('{} squared results in a/an {} number'.format(x, basic_func(y)))\n",
    "    return(y)\n",
    "    \n",
    "if __name__ == '__main__':\n",
    "    \n",
    "    starttime = time.time()\n",
    "    pool = multiprocessing.Pool()\n",
    "    pool.map(multiprocessing_func, range(0,10))\n",
    "    pool.close()\n",
    "    print('That took {} seconds'.format(time.time() - starttime))"
   ]
  },
  {
   "cell_type": "code",
   "execution_count": null,
   "metadata": {
    "collapsed": true
   },
   "outputs": [],
   "source": [
    "#testing from documentation"
   ]
  },
  {
   "cell_type": "code",
   "execution_count": 5,
   "metadata": {},
   "outputs": [
    {
     "ename": "RuntimeError",
     "evalue": "context has already been set",
     "output_type": "error",
     "traceback": [
      "\u001b[0;31m---------------------------------------------------------------------------\u001b[0m",
      "\u001b[0;31mRuntimeError\u001b[0m                              Traceback (most recent call last)",
      "\u001b[0;32m<ipython-input-5-65b27cbd2bb1>\u001b[0m in \u001b[0;36m<module>\u001b[0;34m()\u001b[0m\n\u001b[1;32m      5\u001b[0m \u001b[0;34m\u001b[0m\u001b[0m\n\u001b[1;32m      6\u001b[0m \u001b[0;32mif\u001b[0m \u001b[0m__name__\u001b[0m \u001b[0;34m==\u001b[0m \u001b[0;34m'__main__'\u001b[0m\u001b[0;34m:\u001b[0m\u001b[0;34m\u001b[0m\u001b[0m\n\u001b[0;32m----> 7\u001b[0;31m     \u001b[0mmp\u001b[0m\u001b[0;34m.\u001b[0m\u001b[0mset_start_method\u001b[0m\u001b[0;34m(\u001b[0m\u001b[0;34m'spawn'\u001b[0m\u001b[0;34m)\u001b[0m\u001b[0;34m\u001b[0m\u001b[0m\n\u001b[0m\u001b[1;32m      8\u001b[0m     \u001b[0mq\u001b[0m \u001b[0;34m=\u001b[0m \u001b[0mmp\u001b[0m\u001b[0;34m.\u001b[0m\u001b[0mQueue\u001b[0m\u001b[0;34m(\u001b[0m\u001b[0;34m)\u001b[0m\u001b[0;34m\u001b[0m\u001b[0m\n\u001b[1;32m      9\u001b[0m     \u001b[0mp\u001b[0m \u001b[0;34m=\u001b[0m \u001b[0mmp\u001b[0m\u001b[0;34m.\u001b[0m\u001b[0mProcess\u001b[0m\u001b[0;34m(\u001b[0m\u001b[0mtarget\u001b[0m\u001b[0;34m=\u001b[0m\u001b[0mfoo\u001b[0m\u001b[0;34m,\u001b[0m \u001b[0margs\u001b[0m\u001b[0;34m=\u001b[0m\u001b[0;34m(\u001b[0m\u001b[0mq\u001b[0m\u001b[0;34m,\u001b[0m\u001b[0;34m)\u001b[0m\u001b[0;34m)\u001b[0m\u001b[0;34m\u001b[0m\u001b[0m\n",
      "\u001b[0;32m/Users/aki.nikolaidis/anaconda3/lib/python3.6/multiprocessing/context.py\u001b[0m in \u001b[0;36mset_start_method\u001b[0;34m(self, method, force)\u001b[0m\n\u001b[1;32m    240\u001b[0m     \u001b[0;32mdef\u001b[0m \u001b[0mset_start_method\u001b[0m\u001b[0;34m(\u001b[0m\u001b[0mself\u001b[0m\u001b[0;34m,\u001b[0m \u001b[0mmethod\u001b[0m\u001b[0;34m,\u001b[0m \u001b[0mforce\u001b[0m\u001b[0;34m=\u001b[0m\u001b[0;32mFalse\u001b[0m\u001b[0;34m)\u001b[0m\u001b[0;34m:\u001b[0m\u001b[0;34m\u001b[0m\u001b[0m\n\u001b[1;32m    241\u001b[0m         \u001b[0;32mif\u001b[0m \u001b[0mself\u001b[0m\u001b[0;34m.\u001b[0m\u001b[0m_actual_context\u001b[0m \u001b[0;32mis\u001b[0m \u001b[0;32mnot\u001b[0m \u001b[0;32mNone\u001b[0m \u001b[0;32mand\u001b[0m \u001b[0;32mnot\u001b[0m \u001b[0mforce\u001b[0m\u001b[0;34m:\u001b[0m\u001b[0;34m\u001b[0m\u001b[0m\n\u001b[0;32m--> 242\u001b[0;31m             \u001b[0;32mraise\u001b[0m \u001b[0mRuntimeError\u001b[0m\u001b[0;34m(\u001b[0m\u001b[0;34m'context has already been set'\u001b[0m\u001b[0;34m)\u001b[0m\u001b[0;34m\u001b[0m\u001b[0m\n\u001b[0m\u001b[1;32m    243\u001b[0m         \u001b[0;32mif\u001b[0m \u001b[0mmethod\u001b[0m \u001b[0;32mis\u001b[0m \u001b[0;32mNone\u001b[0m \u001b[0;32mand\u001b[0m \u001b[0mforce\u001b[0m\u001b[0;34m:\u001b[0m\u001b[0;34m\u001b[0m\u001b[0m\n\u001b[1;32m    244\u001b[0m             \u001b[0mself\u001b[0m\u001b[0;34m.\u001b[0m\u001b[0m_actual_context\u001b[0m \u001b[0;34m=\u001b[0m \u001b[0;32mNone\u001b[0m\u001b[0;34m\u001b[0m\u001b[0m\n",
      "\u001b[0;31mRuntimeError\u001b[0m: context has already been set"
     ]
    }
   ],
   "source": [
    "import multiprocessing as mp\n",
    "\n",
    "def foo(q):\n",
    "    q.put('hello')\n",
    "\n",
    "if __name__ == '__main__':\n",
    "    mp.set_start_method('spawn')\n",
    "    q = mp.Queue()\n",
    "    p = mp.Process(target=foo, args=(q,))\n",
    "    p.start()\n",
    "    print(q.get())\n",
    "    p.join()"
   ]
  },
  {
   "cell_type": "code",
   "execution_count": null,
   "metadata": {
    "collapsed": true
   },
   "outputs": [],
   "source": []
  }
 ],
 "metadata": {
  "kernelspec": {
   "display_name": "Python 3",
   "language": "python",
   "name": "python3"
  },
  "language_info": {
   "codemirror_mode": {
    "name": "ipython",
    "version": 3
   },
   "file_extension": ".py",
   "mimetype": "text/x-python",
   "name": "python",
   "nbconvert_exporter": "python",
   "pygments_lexer": "ipython3",
   "version": "3.6.1"
  }
 },
 "nbformat": 4,
 "nbformat_minor": 2
}
