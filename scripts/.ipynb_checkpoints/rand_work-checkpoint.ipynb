{
 "cells": [
  {
   "cell_type": "code",
   "execution_count": 22,
   "metadata": {},
   "outputs": [],
   "source": [
    "import sklearn\n",
    "import pandas as pd\n",
    "from sklearn.metrics import adjusted_rand_score\n",
    "\n",
    "full = pd.read_csv('../output/fullSamp_WISC-WIAT_LouClusterID+SubjID.csv')\n",
    "louvain_bag_clust = pd.read_csv('../../clean_data/both_splits_bag_match_demo.csv')\n",
    "# louvain_no_bag_1 = pd.read_csv('../../no_bootstraps_louvain/cog_split1/cluster_fc_csv_0.csv')\n",
    "# louvain_no_bag_1.rename(columns = {'cluster':'cluster_no_bag'}, inplace = True)\n",
    "# louvain_no_bag_2 = pd.read_csv('../../no_bootstraps_louvain/cog_split2/cluster_fc_csv_0.csv')\n",
    "# louvain_no_bag_2.rename(columns = {'cluster':'cluster_no_bag'}, inplace = True)\n",
    "\n",
    "\n",
    "# comb_split1 = louvain_bag_clust[louvain_bag_clust.split == 'split1']\n",
    "# comb_split1 = comb_split1.merge(full, how = 'left', on = 'URSI')\n",
    "\n",
    "\n",
    "\n",
    "# comb_split2 = louvain_bag_clust[louvain_bag_clust.split == 'split2']\n",
    "# comb_split2 = comb_split2.merge(full, how = 'left', on = 'URSI')\n",
    "\n",
    "\n",
    "\n",
    "# comb_no_bag_split1 = louvain_bag_clust[louvain_bag_clust.split == 'split1'].merge(louvain_no_bag_1, how = 'left', on = 'URSI')\n",
    "# comb_no_bag_split2 = louvain_bag_clust[louvain_bag_clust.split == 'split2'].merge(louvain_no_bag_2, how = 'left', on = 'URSI')\n"
   ]
  },
  {
   "cell_type": "code",
   "execution_count": 77,
   "metadata": {},
   "outputs": [],
   "source": [
    "louvain_no_bag_clust = louvain_bag_clust.drop(columns = ['cluster', 'cluster_matched'])\n",
    "no_bag_scores_all = pd.concat([louvain_no_bag_1, louvain_no_bag_2])[['URSI', 'cluster_no_bag']]\n",
    "\n",
    "louvain_no_bag_clust = louvain_no_bag_clust.merge(no_bag_scores_all, how = 'left', on = 'URSI')\n",
    "louvain_no_bag_clust.rename(columns = {'cluster_no_bag':'cluster'}, inplace = True)\n",
    "louvain_no_bag_clust['cluster_matched'] = louvain_no_bag_clust['cluster']"
   ]
  },
  {
   "cell_type": "code",
   "execution_count": 78,
   "metadata": {},
   "outputs": [
    {
     "data": {
      "text/html": [
       "<div>\n",
       "<style scoped>\n",
       "    .dataframe tbody tr th:only-of-type {\n",
       "        vertical-align: middle;\n",
       "    }\n",
       "\n",
       "    .dataframe tbody tr th {\n",
       "        vertical-align: top;\n",
       "    }\n",
       "\n",
       "    .dataframe thead th {\n",
       "        text-align: right;\n",
       "    }\n",
       "</style>\n",
       "<table border=\"1\" class=\"dataframe\">\n",
       "  <thead>\n",
       "    <tr style=\"text-align: right;\">\n",
       "      <th></th>\n",
       "      <th>URSI</th>\n",
       "      <th>WIAT_Num_Stnd</th>\n",
       "      <th>WIAT_Pseudo_Stnd</th>\n",
       "      <th>WIAT_Spell_Stnd</th>\n",
       "      <th>WIAT_Word_Stnd</th>\n",
       "      <th>WIAT_LCODC_Stnd</th>\n",
       "      <th>WIAT_LC_Stnd</th>\n",
       "      <th>WIAT_RC_Stnd</th>\n",
       "      <th>WIAT_MP_Stnd</th>\n",
       "      <th>WISC_BD_Scaled</th>\n",
       "      <th>...</th>\n",
       "      <th>WISC_DS_Scaled</th>\n",
       "      <th>WISC_Coding_Scaled</th>\n",
       "      <th>WISC_Vocab_Scaled</th>\n",
       "      <th>WISC_FW_Scaled</th>\n",
       "      <th>WISC_VP_Scaled</th>\n",
       "      <th>WISC_PS_Scaled</th>\n",
       "      <th>WISC_SS_Scaled</th>\n",
       "      <th>split</th>\n",
       "      <th>cluster</th>\n",
       "      <th>cluster_matched</th>\n",
       "    </tr>\n",
       "  </thead>\n",
       "  <tbody>\n",
       "    <tr>\n",
       "      <td>0</td>\n",
       "      <td>M00445485</td>\n",
       "      <td>-1.540221</td>\n",
       "      <td>-0.844418</td>\n",
       "      <td>-0.827791</td>\n",
       "      <td>-0.784958</td>\n",
       "      <td>0.454297</td>\n",
       "      <td>-0.562702</td>\n",
       "      <td>-0.006462</td>\n",
       "      <td>-0.843962</td>\n",
       "      <td>-0.769240</td>\n",
       "      <td>...</td>\n",
       "      <td>-0.777439</td>\n",
       "      <td>0.106572</td>\n",
       "      <td>-1.104876</td>\n",
       "      <td>-1.946325</td>\n",
       "      <td>-2.005310</td>\n",
       "      <td>-0.204667</td>\n",
       "      <td>0.151134</td>\n",
       "      <td>split1</td>\n",
       "      <td>3.0</td>\n",
       "      <td>3.0</td>\n",
       "    </tr>\n",
       "    <tr>\n",
       "      <td>1</td>\n",
       "      <td>M00496213</td>\n",
       "      <td>-0.214191</td>\n",
       "      <td>-0.238693</td>\n",
       "      <td>-0.243043</td>\n",
       "      <td>-1.073726</td>\n",
       "      <td>0.390664</td>\n",
       "      <td>0.577910</td>\n",
       "      <td>-0.126265</td>\n",
       "      <td>-0.133874</td>\n",
       "      <td>0.448846</td>\n",
       "      <td>...</td>\n",
       "      <td>0.525531</td>\n",
       "      <td>0.433418</td>\n",
       "      <td>0.677763</td>\n",
       "      <td>-0.031336</td>\n",
       "      <td>0.780885</td>\n",
       "      <td>-1.496066</td>\n",
       "      <td>-0.168573</td>\n",
       "      <td>split1</td>\n",
       "      <td>1.0</td>\n",
       "      <td>1.0</td>\n",
       "    </tr>\n",
       "    <tr>\n",
       "      <td>2</td>\n",
       "      <td>M00409271</td>\n",
       "      <td>-0.156538</td>\n",
       "      <td>0.609323</td>\n",
       "      <td>0.166281</td>\n",
       "      <td>0.543374</td>\n",
       "      <td>0.963356</td>\n",
       "      <td>0.217717</td>\n",
       "      <td>0.412847</td>\n",
       "      <td>0.576214</td>\n",
       "      <td>0.144325</td>\n",
       "      <td>...</td>\n",
       "      <td>-0.777439</td>\n",
       "      <td>0.760265</td>\n",
       "      <td>0.677763</td>\n",
       "      <td>0.287829</td>\n",
       "      <td>0.161731</td>\n",
       "      <td>-0.204667</td>\n",
       "      <td>0.790548</td>\n",
       "      <td>split1</td>\n",
       "      <td>2.0</td>\n",
       "      <td>2.0</td>\n",
       "    </tr>\n",
       "    <tr>\n",
       "      <td>3</td>\n",
       "      <td>M00478991</td>\n",
       "      <td>0.016422</td>\n",
       "      <td>0.003598</td>\n",
       "      <td>-0.126093</td>\n",
       "      <td>-0.669451</td>\n",
       "      <td>0.390664</td>\n",
       "      <td>0.457846</td>\n",
       "      <td>0.233143</td>\n",
       "      <td>-0.461607</td>\n",
       "      <td>-1.073761</td>\n",
       "      <td>...</td>\n",
       "      <td>-1.428924</td>\n",
       "      <td>-0.220275</td>\n",
       "      <td>-0.213557</td>\n",
       "      <td>-0.669666</td>\n",
       "      <td>-0.457424</td>\n",
       "      <td>-0.850366</td>\n",
       "      <td>-0.807987</td>\n",
       "      <td>split1</td>\n",
       "      <td>2.0</td>\n",
       "      <td>2.0</td>\n",
       "    </tr>\n",
       "    <tr>\n",
       "      <td>4</td>\n",
       "      <td>M00403148</td>\n",
       "      <td>0.592957</td>\n",
       "      <td>1.699630</td>\n",
       "      <td>0.692554</td>\n",
       "      <td>1.871705</td>\n",
       "      <td>1.790577</td>\n",
       "      <td>0.938104</td>\n",
       "      <td>0.412847</td>\n",
       "      <td>0.630836</td>\n",
       "      <td>0.448846</td>\n",
       "      <td>...</td>\n",
       "      <td>1.177017</td>\n",
       "      <td>-0.220275</td>\n",
       "      <td>0.974869</td>\n",
       "      <td>0.606993</td>\n",
       "      <td>-0.457424</td>\n",
       "      <td>-0.204667</td>\n",
       "      <td>1.110255</td>\n",
       "      <td>split1</td>\n",
       "      <td>2.0</td>\n",
       "      <td>2.0</td>\n",
       "    </tr>\n",
       "    <tr>\n",
       "      <td>...</td>\n",
       "      <td>...</td>\n",
       "      <td>...</td>\n",
       "      <td>...</td>\n",
       "      <td>...</td>\n",
       "      <td>...</td>\n",
       "      <td>...</td>\n",
       "      <td>...</td>\n",
       "      <td>...</td>\n",
       "      <td>...</td>\n",
       "      <td>...</td>\n",
       "      <td>...</td>\n",
       "      <td>...</td>\n",
       "      <td>...</td>\n",
       "      <td>...</td>\n",
       "      <td>...</td>\n",
       "      <td>...</td>\n",
       "      <td>...</td>\n",
       "      <td>...</td>\n",
       "      <td>...</td>\n",
       "      <td>...</td>\n",
       "      <td>...</td>\n",
       "    </tr>\n",
       "    <tr>\n",
       "      <td>1637</td>\n",
       "      <td>M00407518</td>\n",
       "      <td>0.180451</td>\n",
       "      <td>-1.318553</td>\n",
       "      <td>-0.402875</td>\n",
       "      <td>-0.560645</td>\n",
       "      <td>-0.712706</td>\n",
       "      <td>-0.765345</td>\n",
       "      <td>-0.960528</td>\n",
       "      <td>-0.690121</td>\n",
       "      <td>0.423741</td>\n",
       "      <td>...</td>\n",
       "      <td>0.861475</td>\n",
       "      <td>0.360142</td>\n",
       "      <td>-0.479976</td>\n",
       "      <td>1.569461</td>\n",
       "      <td>-1.078528</td>\n",
       "      <td>-1.053950</td>\n",
       "      <td>1.084753</td>\n",
       "      <td>split2</td>\n",
       "      <td>2.0</td>\n",
       "      <td>2.0</td>\n",
       "    </tr>\n",
       "    <tr>\n",
       "      <td>1638</td>\n",
       "      <td>M00430591</td>\n",
       "      <td>0.885891</td>\n",
       "      <td>-0.406325</td>\n",
       "      <td>-0.967769</td>\n",
       "      <td>0.308553</td>\n",
       "      <td>-0.199727</td>\n",
       "      <td>-0.161881</td>\n",
       "      <td>0.262342</td>\n",
       "      <td>-0.039458</td>\n",
       "      <td>0.124565</td>\n",
       "      <td>...</td>\n",
       "      <td>0.214183</td>\n",
       "      <td>-0.235128</td>\n",
       "      <td>1.315002</td>\n",
       "      <td>0.608782</td>\n",
       "      <td>0.165577</td>\n",
       "      <td>-0.746985</td>\n",
       "      <td>-0.434940</td>\n",
       "      <td>split2</td>\n",
       "      <td>3.0</td>\n",
       "      <td>3.0</td>\n",
       "    </tr>\n",
       "    <tr>\n",
       "      <td>1639</td>\n",
       "      <td>M00432308</td>\n",
       "      <td>0.062878</td>\n",
       "      <td>0.262641</td>\n",
       "      <td>0.049040</td>\n",
       "      <td>0.192660</td>\n",
       "      <td>0.056763</td>\n",
       "      <td>-0.765345</td>\n",
       "      <td>-0.226806</td>\n",
       "      <td>-0.581677</td>\n",
       "      <td>-0.772963</td>\n",
       "      <td>...</td>\n",
       "      <td>2.156059</td>\n",
       "      <td>0.360142</td>\n",
       "      <td>-1.078301</td>\n",
       "      <td>-0.672124</td>\n",
       "      <td>-1.078528</td>\n",
       "      <td>0.173909</td>\n",
       "      <td>1.084753</td>\n",
       "      <td>split2</td>\n",
       "      <td>1.0</td>\n",
       "      <td>1.0</td>\n",
       "    </tr>\n",
       "    <tr>\n",
       "      <td>1640</td>\n",
       "      <td>M00449413</td>\n",
       "      <td>-0.172268</td>\n",
       "      <td>-1.075292</td>\n",
       "      <td>-0.911280</td>\n",
       "      <td>-1.603683</td>\n",
       "      <td>-0.263849</td>\n",
       "      <td>-0.704999</td>\n",
       "      <td>-0.838241</td>\n",
       "      <td>-1.395005</td>\n",
       "      <td>-1.072139</td>\n",
       "      <td>...</td>\n",
       "      <td>-0.109463</td>\n",
       "      <td>0.657778</td>\n",
       "      <td>-1.377464</td>\n",
       "      <td>-0.672124</td>\n",
       "      <td>-0.145449</td>\n",
       "      <td>-0.133056</td>\n",
       "      <td>0.476876</td>\n",
       "      <td>split2</td>\n",
       "      <td>2.0</td>\n",
       "      <td>2.0</td>\n",
       "    </tr>\n",
       "    <tr>\n",
       "      <td>1641</td>\n",
       "      <td>M00419628</td>\n",
       "      <td>-0.642561</td>\n",
       "      <td>1.174868</td>\n",
       "      <td>0.444466</td>\n",
       "      <td>0.830072</td>\n",
       "      <td>0.569742</td>\n",
       "      <td>0.441582</td>\n",
       "      <td>0.568060</td>\n",
       "      <td>0.177429</td>\n",
       "      <td>0.423741</td>\n",
       "      <td>...</td>\n",
       "      <td>0.537829</td>\n",
       "      <td>-0.532764</td>\n",
       "      <td>-0.180813</td>\n",
       "      <td>0.288556</td>\n",
       "      <td>-0.767502</td>\n",
       "      <td>0.480874</td>\n",
       "      <td>1.388692</td>\n",
       "      <td>split2</td>\n",
       "      <td>1.0</td>\n",
       "      <td>1.0</td>\n",
       "    </tr>\n",
       "  </tbody>\n",
       "</table>\n",
       "<p>1642 rows × 22 columns</p>\n",
       "</div>"
      ],
      "text/plain": [
       "           URSI  WIAT_Num_Stnd  WIAT_Pseudo_Stnd  WIAT_Spell_Stnd  \\\n",
       "0     M00445485      -1.540221         -0.844418        -0.827791   \n",
       "1     M00496213      -0.214191         -0.238693        -0.243043   \n",
       "2     M00409271      -0.156538          0.609323         0.166281   \n",
       "3     M00478991       0.016422          0.003598        -0.126093   \n",
       "4     M00403148       0.592957          1.699630         0.692554   \n",
       "...         ...            ...               ...              ...   \n",
       "1637  M00407518       0.180451         -1.318553        -0.402875   \n",
       "1638  M00430591       0.885891         -0.406325        -0.967769   \n",
       "1639  M00432308       0.062878          0.262641         0.049040   \n",
       "1640  M00449413      -0.172268         -1.075292        -0.911280   \n",
       "1641  M00419628      -0.642561          1.174868         0.444466   \n",
       "\n",
       "      WIAT_Word_Stnd  WIAT_LCODC_Stnd  WIAT_LC_Stnd  WIAT_RC_Stnd  \\\n",
       "0          -0.784958         0.454297     -0.562702     -0.006462   \n",
       "1          -1.073726         0.390664      0.577910     -0.126265   \n",
       "2           0.543374         0.963356      0.217717      0.412847   \n",
       "3          -0.669451         0.390664      0.457846      0.233143   \n",
       "4           1.871705         1.790577      0.938104      0.412847   \n",
       "...              ...              ...           ...           ...   \n",
       "1637       -0.560645        -0.712706     -0.765345     -0.960528   \n",
       "1638        0.308553        -0.199727     -0.161881      0.262342   \n",
       "1639        0.192660         0.056763     -0.765345     -0.226806   \n",
       "1640       -1.603683        -0.263849     -0.704999     -0.838241   \n",
       "1641        0.830072         0.569742      0.441582      0.568060   \n",
       "\n",
       "      WIAT_MP_Stnd  WISC_BD_Scaled  ...  WISC_DS_Scaled  WISC_Coding_Scaled  \\\n",
       "0        -0.843962       -0.769240  ...       -0.777439            0.106572   \n",
       "1        -0.133874        0.448846  ...        0.525531            0.433418   \n",
       "2         0.576214        0.144325  ...       -0.777439            0.760265   \n",
       "3        -0.461607       -1.073761  ...       -1.428924           -0.220275   \n",
       "4         0.630836        0.448846  ...        1.177017           -0.220275   \n",
       "...            ...             ...  ...             ...                 ...   \n",
       "1637     -0.690121        0.423741  ...        0.861475            0.360142   \n",
       "1638     -0.039458        0.124565  ...        0.214183           -0.235128   \n",
       "1639     -0.581677       -0.772963  ...        2.156059            0.360142   \n",
       "1640     -1.395005       -1.072139  ...       -0.109463            0.657778   \n",
       "1641      0.177429        0.423741  ...        0.537829           -0.532764   \n",
       "\n",
       "      WISC_Vocab_Scaled  WISC_FW_Scaled  WISC_VP_Scaled  WISC_PS_Scaled  \\\n",
       "0             -1.104876       -1.946325       -2.005310       -0.204667   \n",
       "1              0.677763       -0.031336        0.780885       -1.496066   \n",
       "2              0.677763        0.287829        0.161731       -0.204667   \n",
       "3             -0.213557       -0.669666       -0.457424       -0.850366   \n",
       "4              0.974869        0.606993       -0.457424       -0.204667   \n",
       "...                 ...             ...             ...             ...   \n",
       "1637          -0.479976        1.569461       -1.078528       -1.053950   \n",
       "1638           1.315002        0.608782        0.165577       -0.746985   \n",
       "1639          -1.078301       -0.672124       -1.078528        0.173909   \n",
       "1640          -1.377464       -0.672124       -0.145449       -0.133056   \n",
       "1641          -0.180813        0.288556       -0.767502        0.480874   \n",
       "\n",
       "      WISC_SS_Scaled   split  cluster cluster_matched  \n",
       "0           0.151134  split1      3.0             3.0  \n",
       "1          -0.168573  split1      1.0             1.0  \n",
       "2           0.790548  split1      2.0             2.0  \n",
       "3          -0.807987  split1      2.0             2.0  \n",
       "4           1.110255  split1      2.0             2.0  \n",
       "...              ...     ...      ...             ...  \n",
       "1637        1.084753  split2      2.0             2.0  \n",
       "1638       -0.434940  split2      3.0             3.0  \n",
       "1639        1.084753  split2      1.0             1.0  \n",
       "1640        0.476876  split2      2.0             2.0  \n",
       "1641        1.388692  split2      1.0             1.0  \n",
       "\n",
       "[1642 rows x 22 columns]"
      ]
     },
     "execution_count": 78,
     "metadata": {},
     "output_type": "execute_result"
    }
   ],
   "source": [
    "louvain_no_bag_clust"
   ]
  },
  {
   "cell_type": "code",
   "execution_count": 4,
   "metadata": {},
   "outputs": [
    {
     "name": "stdout",
     "output_type": "stream",
     "text": [
      "0.14128045412917678\n",
      "0.12394947945685453\n"
     ]
    }
   ],
   "source": [
    "print(adjusted_rand_score(comb_split1.cluster, comb_split1.louvain_community))\n",
    "print(adjusted_rand_score(comb_split2.cluster, comb_split2.louvain_community))\n"
   ]
  },
  {
   "cell_type": "code",
   "execution_count": 5,
   "metadata": {},
   "outputs": [
    {
     "data": {
      "text/plain": [
       "0.6952104391167797"
      ]
     },
     "execution_count": 5,
     "metadata": {},
     "output_type": "execute_result"
    }
   ],
   "source": [
    "adjusted_rand_score(comb_no_bag_split1.cluster, comb_no_bag_split1.cluster_no_bag)\n",
    "adjusted_rand_score(comb_no_bag_split2.cluster, comb_no_bag_split2.cluster_no_bag)"
   ]
  },
  {
   "cell_type": "code",
   "execution_count": 4,
   "metadata": {},
   "outputs": [
    {
     "data": {
      "text/plain": [
       "0      4\n",
       "1      4\n",
       "2      5\n",
       "3      4\n",
       "4      1\n",
       "      ..\n",
       "819    6\n",
       "820    1\n",
       "821    2\n",
       "822    1\n",
       "823    6\n",
       "Name: louvain_community, Length: 824, dtype: int64"
      ]
     },
     "execution_count": 4,
     "metadata": {},
     "output_type": "execute_result"
    }
   ],
   "source": [
    "comb_split1.louvain_community"
   ]
  },
  {
   "cell_type": "code",
   "execution_count": 8,
   "metadata": {},
   "outputs": [],
   "source": [
    "from scipy.spatial import distance\n",
    "import seaborn as sns"
   ]
  },
  {
   "cell_type": "code",
   "execution_count": 83,
   "metadata": {},
   "outputs": [],
   "source": [
    "def get_euclidean_distances(split_df):\n",
    "    # group by split and matched cluster, get mean for each\n",
    "    cluster_split_means = split_df.drop(columns = ['cluster']).groupby(['split', 'cluster_matched']).mean()\n",
    "    \n",
    "    # make columns for the grouping variables\n",
    "    cluster_split_means['cluster'] = cluster_split_means.index.get_level_values('cluster_matched')\n",
    "    cluster_split_means['split'] = cluster_split_means.index.get_level_values('split')\n",
    "    \n",
    "    # loop through cluster indices until we get to a cluster index not present in both splits\n",
    "    clust_index = 1\n",
    "    max_clust_lim = False\n",
    "    euclidean_distances = []\n",
    "    while not max_clust_lim:\n",
    "        # filter by matched cluster index across splits (should always be 2 rows)\n",
    "        mini_df = cluster_split_means[(cluster_split_means.cluster == clust_index)].drop(columns = ['cluster', 'split']).to_numpy()\n",
    "        if mini_df.shape[0] == 2:\n",
    "            # calculate euclidean distance between the 2 rows (i.e. same cluster, across splits)\n",
    "            euclidean_distances.append(distance.euclidean(mini_df[0,], mini_df[1,]))\n",
    "        else:\n",
    "            max_clust_lim = True\n",
    "        clust_index +=1\n",
    "    \n",
    "    # order and rank the euclidean distances and add to a dataframe\n",
    "    df = pd.DataFrame({'euclidean_distance':np.sort(euclidean_distances),\n",
    "                       'rank':np.arange(start = 1, stop = len(euclidean_distances) + 1)})\n",
    "    return(df)\n"
   ]
  },
  {
   "cell_type": "code",
   "execution_count": 84,
   "metadata": {},
   "outputs": [
    {
     "data": {
      "text/html": [
       "<div>\n",
       "<style scoped>\n",
       "    .dataframe tbody tr th:only-of-type {\n",
       "        vertical-align: middle;\n",
       "    }\n",
       "\n",
       "    .dataframe tbody tr th {\n",
       "        vertical-align: top;\n",
       "    }\n",
       "\n",
       "    .dataframe thead th {\n",
       "        text-align: right;\n",
       "    }\n",
       "</style>\n",
       "<table border=\"1\" class=\"dataframe\">\n",
       "  <thead>\n",
       "    <tr style=\"text-align: right;\">\n",
       "      <th></th>\n",
       "      <th>euclidean_distance</th>\n",
       "      <th>rank</th>\n",
       "    </tr>\n",
       "  </thead>\n",
       "  <tbody>\n",
       "    <tr>\n",
       "      <td>0</td>\n",
       "      <td>0.526722</td>\n",
       "      <td>1</td>\n",
       "    </tr>\n",
       "    <tr>\n",
       "      <td>1</td>\n",
       "      <td>0.665985</td>\n",
       "      <td>2</td>\n",
       "    </tr>\n",
       "    <tr>\n",
       "      <td>2</td>\n",
       "      <td>0.765918</td>\n",
       "      <td>3</td>\n",
       "    </tr>\n",
       "    <tr>\n",
       "      <td>3</td>\n",
       "      <td>0.791010</td>\n",
       "      <td>4</td>\n",
       "    </tr>\n",
       "  </tbody>\n",
       "</table>\n",
       "</div>"
      ],
      "text/plain": [
       "   euclidean_distance  rank\n",
       "0            0.526722     1\n",
       "1            0.665985     2\n",
       "2            0.765918     3\n",
       "3            0.791010     4"
      ]
     },
     "execution_count": 84,
     "metadata": {},
     "output_type": "execute_result"
    }
   ],
   "source": [
    "get_euclidean_distances(louvain_bag_clust)"
   ]
  },
  {
   "cell_type": "code",
   "execution_count": 85,
   "metadata": {},
   "outputs": [
    {
     "data": {
      "text/html": [
       "<div>\n",
       "<style scoped>\n",
       "    .dataframe tbody tr th:only-of-type {\n",
       "        vertical-align: middle;\n",
       "    }\n",
       "\n",
       "    .dataframe tbody tr th {\n",
       "        vertical-align: top;\n",
       "    }\n",
       "\n",
       "    .dataframe thead th {\n",
       "        text-align: right;\n",
       "    }\n",
       "</style>\n",
       "<table border=\"1\" class=\"dataframe\">\n",
       "  <thead>\n",
       "    <tr style=\"text-align: right;\">\n",
       "      <th></th>\n",
       "      <th>euclidean_distance</th>\n",
       "      <th>rank</th>\n",
       "    </tr>\n",
       "  </thead>\n",
       "  <tbody>\n",
       "    <tr>\n",
       "      <td>0</td>\n",
       "      <td>2.488429</td>\n",
       "      <td>1</td>\n",
       "    </tr>\n",
       "    <tr>\n",
       "      <td>1</td>\n",
       "      <td>2.614932</td>\n",
       "      <td>2</td>\n",
       "    </tr>\n",
       "    <tr>\n",
       "      <td>2</td>\n",
       "      <td>2.799037</td>\n",
       "      <td>3</td>\n",
       "    </tr>\n",
       "  </tbody>\n",
       "</table>\n",
       "</div>"
      ],
      "text/plain": [
       "   euclidean_distance  rank\n",
       "0            2.488429     1\n",
       "1            2.614932     2\n",
       "2            2.799037     3"
      ]
     },
     "execution_count": 85,
     "metadata": {},
     "output_type": "execute_result"
    }
   ],
   "source": [
    "get_euclidean_distances(louvain_no_bag_clust) # not really working yet because it isn't matched"
   ]
  },
  {
   "cell_type": "code",
   "execution_count": 19,
   "metadata": {},
   "outputs": [
    {
     "ename": "TypeError",
     "evalue": "slice indices must be integers or None or have an __index__ method",
     "output_type": "error",
     "traceback": [
      "\u001b[0;31m---------------------------------------------------------------------------\u001b[0m",
      "\u001b[0;31mTypeError\u001b[0m                                 Traceback (most recent call last)",
      "\u001b[0;32m<ipython-input-19-5bfe3fc0c938>\u001b[0m in \u001b[0;36m<module>\u001b[0;34m\u001b[0m\n\u001b[1;32m      5\u001b[0m \u001b[0;34m\u001b[0m\u001b[0m\n\u001b[1;32m      6\u001b[0m \u001b[0;34m\u001b[0m\u001b[0m\n\u001b[0;32m----> 7\u001b[0;31m \u001b[0msub_mat\u001b[0m \u001b[0;34m=\u001b[0m \u001b[0mdist_matrix\u001b[0m\u001b[0;34m[\u001b[0m\u001b[0mdist_matrix\u001b[0m\u001b[0;34m.\u001b[0m\u001b[0mshape\u001b[0m\u001b[0;34m[\u001b[0m\u001b[0;36m1\u001b[0m\u001b[0;34m]\u001b[0m\u001b[0;34m/\u001b[0m\u001b[0;36m2\u001b[0m\u001b[0;34m:\u001b[0m\u001b[0mdist_matrix\u001b[0m\u001b[0;34m.\u001b[0m\u001b[0mshape\u001b[0m\u001b[0;34m[\u001b[0m\u001b[0;36m1\u001b[0m\u001b[0;34m]\u001b[0m\u001b[0;34m,\u001b[0m\u001b[0;36m1\u001b[0m\u001b[0;34m]\u001b[0m\u001b[0;34m\u001b[0m\u001b[0;34m\u001b[0m\u001b[0m\n\u001b[0m",
      "\u001b[0;31mTypeError\u001b[0m: slice indices must be integers or None or have an __index__ method"
     ]
    },
    {
     "data": {
      "image/png": "[encoded data removed]",
      "text/plain": [
       "<Figure size 432x288 with 2 Axes>"
      ]
     },
     "metadata": {
      "needs_background": "light"
     },
     "output_type": "display_data"
    }
   ],
   "source": [
    "distances = distance.pdist(bag_cluster_means.drop(columns = ['split', 'cluster']), metric = 'euclidean')\n",
    "dist_matrix = distance.squareform(distances)\n",
    "dist_matrix\n",
    "sns.heatmap(dist_matrix)"
   ]
  },
  {
   "cell_type": "code",
   "execution_count": 37,
   "metadata": {},
   "outputs": [
    {
     "data": {
      "text/plain": [
       "array([2.12599578, 2.89554391, 2.17805728, 0.66598455, 1.91824315,\n",
       "       2.80139892, 1.85761975, 2.62073665, 3.03836365, 2.12012734,\n",
       "       0.52672219, 2.05947956, 2.92364292, 1.64449686, 2.78616946,\n",
       "       2.75179516, 0.79100977, 1.74845608, 1.97268114, 3.06233698,\n",
       "       1.97942732, 0.76591805, 2.03651249, 2.66772223, 1.84121934,\n",
       "       2.27161475, 2.89162493, 2.12378063])"
      ]
     },
     "execution_count": 37,
     "metadata": {},
     "output_type": "execute_result"
    }
   ],
   "source": [
    "distances"
   ]
  },
  {
   "cell_type": "code",
   "execution_count": 29,
   "metadata": {},
   "outputs": [],
   "source": [
    "sub_mat = dist_matrix[int(dist_matrix.shape[1]/2):(int(dist_matrix.shape[1])),range(int(dist_matrix.shape[1]/2))]\n"
   ]
  },
  {
   "cell_type": "code",
   "execution_count": 30,
   "metadata": {},
   "outputs": [
    {
     "data": {
      "text/plain": [
       "<matplotlib.axes._subplots.AxesSubplot at 0x12a5cfc50>"
      ]
     },
     "execution_count": 30,
     "metadata": {},
     "output_type": "execute_result"
    },
    {
     "data": {
      "image/png": "[encoded data removed]",
      "text/plain": [
       "<Figure size 432x288 with 2 Axes>"
      ]
     },
     "metadata": {
      "needs_background": "light"
     },
     "output_type": "display_data"
    }
   ],
   "source": [
    "sns.heatmap(sub_mat)"
   ]
  },
  {
   "cell_type": "code",
   "execution_count": 31,
   "metadata": {},
   "outputs": [],
   "source": [
    "import numpy as np"
   ]
  },
  {
   "cell_type": "code",
   "execution_count": 35,
   "metadata": {},
   "outputs": [],
   "source": [
    "df = pd.DataFrame({'euclidean_distance':np.diagonal(sub_mat),\n",
    "                   'rank':range(sub_mat.shape[0])})"
   ]
  },
  {
   "cell_type": "code",
   "execution_count": 36,
   "metadata": {},
   "outputs": [
    {
     "data": {
      "text/html": [
       "<div>\n",
       "<style scoped>\n",
       "    .dataframe tbody tr th:only-of-type {\n",
       "        vertical-align: middle;\n",
       "    }\n",
       "\n",
       "    .dataframe tbody tr th {\n",
       "        vertical-align: top;\n",
       "    }\n",
       "\n",
       "    .dataframe thead th {\n",
       "        text-align: right;\n",
       "    }\n",
       "</style>\n",
       "<table border=\"1\" class=\"dataframe\">\n",
       "  <thead>\n",
       "    <tr style=\"text-align: right;\">\n",
       "      <th></th>\n",
       "      <th>euclidean_distance</th>\n",
       "      <th>rank</th>\n",
       "    </tr>\n",
       "  </thead>\n",
       "  <tbody>\n",
       "    <tr>\n",
       "      <td>0</td>\n",
       "      <td>0.665985</td>\n",
       "      <td>0</td>\n",
       "    </tr>\n",
       "    <tr>\n",
       "      <td>1</td>\n",
       "      <td>0.526722</td>\n",
       "      <td>1</td>\n",
       "    </tr>\n",
       "    <tr>\n",
       "      <td>2</td>\n",
       "      <td>0.791010</td>\n",
       "      <td>2</td>\n",
       "    </tr>\n",
       "    <tr>\n",
       "      <td>3</td>\n",
       "      <td>0.765918</td>\n",
       "      <td>3</td>\n",
       "    </tr>\n",
       "  </tbody>\n",
       "</table>\n",
       "</div>"
      ],
      "text/plain": [
       "   euclidean_distance  rank\n",
       "0            0.665985     0\n",
       "1            0.526722     1\n",
       "2            0.791010     2\n",
       "3            0.765918     3"
      ]
     },
     "execution_count": 36,
     "metadata": {},
     "output_type": "execute_result"
    }
   ],
   "source": [
    "df"
   ]
  },
  {
   "cell_type": "code",
   "execution_count": 29,
   "metadata": {},
   "outputs": [],
   "source": [
    "def rand_split_full(cluster_labels_bag, cluster_labels_full, split):\n",
    "    merged_labels = cluster_labels_bag.merge(cluster_labels_full, on = 'URSI', how = 'left')\n",
    "    merged_labels = merged_labels[merged_labels.split == split]\n",
    "    rand = adjusted_rand_score(merged_labels.clust_bag, merged_labels.clust_no_bag)\n",
    "    return([merged_labels, rand])"
   ]
  },
  {
   "cell_type": "code",
   "execution_count": 31,
   "metadata": {},
   "outputs": [
    {
     "data": {
      "text/plain": [
       "[          URSI  clust_bag   split  clust_no_bag\n",
       " 0    M00445485          1  split1             4\n",
       " 1    M00496213          2  split1             4\n",
       " 2    M00409271          3  split1             5\n",
       " 3    M00478991          3  split1             4\n",
       " 4    M00403148          4  split1             1\n",
       " ..         ...        ...     ...           ...\n",
       " 819  M00411520          1  split1             6\n",
       " 820  M00495733          4  split1             1\n",
       " 821  M00453521          2  split1             2\n",
       " 822  M00452222          1  split1             1\n",
       " 823  M00454200          1  split1             6\n",
       " \n",
       " [824 rows x 4 columns], 0.14128045412917678]"
      ]
     },
     "execution_count": 31,
     "metadata": {},
     "output_type": "execute_result"
    }
   ],
   "source": [
    "bag_labels = louvain_bag_clust[['URSI', 'cluster', 'split']].rename(columns = {'cluster':'clust_bag'})\n",
    "full_labels = full[['URSI', 'louvain_community']].rename(columns = {'louvain_community':'clust_no_bag'})\n",
    "\n",
    "\n",
    "rand_split_full(cluster_labels_bag = bag_labels, cluster_labels_full = full_labels, split = 'split1')\n"
   ]
  },
  {
   "cell_type": "code",
   "execution_count": 30,
   "metadata": {},
   "outputs": [
    {
     "data": {
      "text/plain": [
       "[           URSI  clust_bag   split  clust_no_bag\n",
       " 824   M00405174          1  split2             2\n",
       " 825   M00403506          2  split2             2\n",
       " 826   M00462591          3  split2             6\n",
       " 827   M00438483          4  split2             1\n",
       " 828   M00468204          3  split2             5\n",
       " ...         ...        ...     ...           ...\n",
       " 1637  M00407518          2  split2             2\n",
       " 1638  M00430591          4  split2             4\n",
       " 1639  M00432308          1  split2             6\n",
       " 1640  M00449413          2  split2             2\n",
       " 1641  M00419628          3  split2             5\n",
       " \n",
       " [818 rows x 4 columns], 0.12394947945685453]"
      ]
     },
     "execution_count": 30,
     "metadata": {},
     "output_type": "execute_result"
    }
   ],
   "source": [
    "rand_split_full(cluster_labels_bag = bag_labels, cluster_labels_full = full_labels, split = 'split2')"
   ]
  },
  {
   "cell_type": "code",
   "execution_count": null,
   "metadata": {},
   "outputs": [],
   "source": []
  }
 ],
 "metadata": {
  "kernelspec": {
   "display_name": "Python 3",
   "language": "python",
   "name": "python3"
  },
  "language_info": {
   "codemirror_mode": {
    "name": "ipython",
    "version": 3
   },
   "file_extension": ".py",
   "mimetype": "text/x-python",
   "name": "python",
   "nbconvert_exporter": "python",
   "pygments_lexer": "ipython3",
   "version": "3.7.4"
  }
 },
 "nbformat": 4,
 "nbformat_minor": 2
}
